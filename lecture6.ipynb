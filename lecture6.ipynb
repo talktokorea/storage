{
  "nbformat": 4,
  "nbformat_minor": 0,
  "metadata": {
    "colab": {
      "name": "lecture6.ipynb",
      "private_outputs": true,
      "provenance": [],
      "collapsed_sections": [],
      "include_colab_link": true
    },
    "kernelspec": {
      "name": "python3",
      "display_name": "Python 3"
    },
    "language_info": {
      "name": "python"
    }
  },
  "cells": [
    {
      "cell_type": "markdown",
      "metadata": {
        "id": "view-in-github",
        "colab_type": "text"
      },
      "source": [
        "<a href=\"https://colab.research.google.com/github/talktokorea/storage/blob/master/lecture6.ipynb\" target=\"_parent\"><img src=\"https://colab.research.google.com/assets/colab-badge.svg\" alt=\"Open In Colab\"/></a>"
      ]
    },
    {
      "cell_type": "code",
      "source": [
        "# 0. 한글 폰트 다운로드 설치\n",
        "!sudo apt-get install -y fonts-nanum\n",
        "!sudo fc-cache -fv\n",
        "!rm ~/.cache/matplotlib -rf\n",
        "# 0. 구글 드라이브를 코랩에 마운트 Mount Google Drive\n",
        "from google.colab import drive     # import drive from google colab\n",
        "ROOT=\"/content/drive\"                # root directory\n",
        "drive.mount(ROOT)                     # mount google drive at ROOT= /content/drive\n",
        "PROJECT_PATH = \"/content/drive/MyDrive/Colab Notebooks/storage\"\n",
        "%cd {PROJECT_PATH}\n",
        "%pwd"
      ],
      "metadata": {
        "id": "n6mG8OEfdSa8"
      },
      "execution_count": null,
      "outputs": []
    },
    {
      "cell_type": "code",
      "execution_count": null,
      "metadata": {
        "id": "An9USc_Gw5o1"
      },
      "outputs": [],
      "source": [
        "# 1. 농어 Perch 데이터 입력\n",
        "import numpy as np\n",
        "perch_length = np.array(\n",
        "      [8.4, 13.7, 15.0, 16.2, 17.4, 18.0, 18.7, 19.0, 19.6, 20.0, 21.0,\n",
        "       21.0, 21.0, 21.3, 22.0, 22.0, 22.0, 22.0, 22.0, 22.5, 22.5, 22.7,\n",
        "       23.0, 23.5, 24.0, 24.0, 24.6, 25.0, 25.6, 26.5, 27.3, 27.5, 27.5,\n",
        "       27.5, 28.0, 28.7, 30.0, 32.8, 34.5, 35.0, 36.5, 36.0, 37.0, 37.0,\n",
        "       39.0, 39.0, 39.0, 40.0, 40.0, 40.0, 40.0, 42.0, 43.0, 43.0, 43.5,\n",
        "       44.0]\n",
        "       )\n",
        "perch_weight = np.array(\n",
        "      [5.9, 32.0, 40.0, 51.5, 70.0, 100.0, 78.0, 80.0, 85.0, 85.0, 110.0,\n",
        "       115.0, 125.0, 130.0, 120.0, 120.0, 130.0, 135.0, 110.0, 130.0,\n",
        "       150.0, 145.0, 150.0, 170.0, 225.0, 145.0, 188.0, 180.0, 197.0,\n",
        "       218.0, 300.0, 260.0, 265.0, 250.0, 250.0, 300.0, 320.0, 514.0,\n",
        "       556.0, 840.0, 685.0, 700.0, 700.0, 690.0, 900.0, 650.0, 820.0,\n",
        "       850.0, 900.0, 1015.0, 820.0, 1100.0, 1000.0, 1100.0, 1000.0,\n",
        "       1000.0]\n",
        "      )"
      ]
    },
    {
      "cell_type": "code",
      "source": [
        "# 2. 훈련 세트와 테스트 세트를 구분(25% 테스트 세트 기본 설정) (각각 입력 및 정답)\n",
        "# train_test_split() 이용 train_input, train_targt, test_input, test_target 확보\n",
        "from sklearn.model_selection import train_test_split\n",
        "train_input,test_input,train_target,test_target = train_test_split(perch_length,perch_weight,random_state=42)\n",
        "print(train_input.shape, test_input.shape)\n",
        "print(train_target.shape, test_target.shape)"
      ],
      "metadata": {
        "id": "jX-LhbcgQ4OA"
      },
      "execution_count": null,
      "outputs": []
    },
    {
      "cell_type": "code",
      "source": [
        "# 3. 사이킷런에서 사용할 수 있도록 2차원 배열 데이터로 변경\n",
        "train_input=train_input.reshape(-1,1)\n",
        "test_input = np.reshape(test_input,(-1,1)) # 동일\n",
        "#print(train_input)"
      ],
      "metadata": {
        "id": "VnxuwjCVsT9Z"
      },
      "execution_count": null,
      "outputs": []
    },
    {
      "cell_type": "code",
      "source": [
        "# 4. 훈련 및 결정계수 평가\n",
        "from sklearn.neighbors import KNeighborsRegressor  # 사이킷런 패키지\n",
        "knr = KNeighborsRegressor(n_neighbors=3)   # 객체 생성\n",
        "knr.fit(train_input,train_target)    # 머신러닝 훈련\n",
        "print(knr.score(test_input,test_target))  # 결정계수 R 평가\n",
        "knr.predict([[50]])"
      ],
      "metadata": {
        "id": "jCLhnmdecftu"
      },
      "execution_count": null,
      "outputs": []
    },
    {
      "cell_type": "code",
      "source": [
        "# 5. 특정 생선 길이 포인트(50)의 이웃 가져오기\n",
        "import matplotlib.pyplot as plt\n",
        "distances, indexes = knr.kneighbors([[50]])      # distance=이웃거리, indexes=이웃번호\n",
        "# 이웃 샘플 그리기\n",
        "plt.scatter(train_input,train_target)\n",
        "plt.scatter(train_input[indexes],train_target[indexes],marker='D')  # 이웃 그림\n",
        "plt.scatter(50,1033.3,marker='*')\n",
        "plt.xlabel('length')\n",
        "plt.ylabel('weight')\n",
        "plt.show()"
      ],
      "metadata": {
        "id": "ySpC0nSff1It"
      },
      "execution_count": null,
      "outputs": []
    },
    {
      "cell_type": "code",
      "source": [
        "# 6 이웃 샘플의 타겟 평균\n",
        "np.mean(train_target[indexes])"
      ],
      "metadata": {
        "id": "jxAZ3Zft1VW5"
      },
      "execution_count": null,
      "outputs": []
    },
    {
      "cell_type": "code",
      "source": [
        "# 7. 신규 길이(100) 예측 및 산점도 그리기\n",
        "print(knr.predict([[100]]))      # 1033.3\n",
        "import matplotlib.pyplot as plt\n",
        "distances, indexes = knr.kneighbors([[100]])      # distance=이웃거리, indexes=이웃번호\n",
        "# 이웃 샘플 그리기\n",
        "plt.scatter(train_input,train_target)\n",
        "plt.scatter(train_input[indexes],train_target[indexes],marker='D')  # 이웃 그림\n",
        "plt.scatter(100,1033.3,marker='*')\n",
        "plt.xlabel('length')\n",
        "plt.ylabel('weight')\n",
        "plt.show()"
      ],
      "metadata": {
        "id": "dE0JtMAb2Gby"
      },
      "execution_count": null,
      "outputs": []
    }
  ]
}