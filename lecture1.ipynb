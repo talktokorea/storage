{
  "nbformat": 4,
  "nbformat_minor": 0,
  "metadata": {
    "colab": {
      "name": "lecture1.ipynb",
      "private_outputs": true,
      "provenance": [],
      "collapsed_sections": [],
      "authorship_tag": "ABX9TyNKfDn8Y4/lCahCELDgtuyj",
      "include_colab_link": true
    },
    "kernelspec": {
      "name": "python3",
      "display_name": "Python 3"
    },
    "language_info": {
      "name": "python"
    }
  },
  "cells": [
    {
      "cell_type": "markdown",
      "metadata": {
        "id": "view-in-github",
        "colab_type": "text"
      },
      "source": [
        "<a href=\"https://colab.research.google.com/github/talktokorea/storage/blob/master/lecture1.ipynb\" target=\"_parent\"><img src=\"https://colab.research.google.com/assets/colab-badge.svg\" alt=\"Open In Colab\"/></a>"
      ]
    },
    {
      "cell_type": "code",
      "execution_count": null,
      "metadata": {
        "id": "An9USc_Gw5o1"
      },
      "outputs": [],
      "source": [
        "#구글 드라이브를 코랩에 마운트 Mount Google Drive\n",
        "from google.colab import drive     # import drive from google colab\n",
        "ROOT=\"/content/drive\"                # root directory\n",
        "drive.mount(ROOT)                     # mount google drive at ROOT= /content/drive\n",
        "PROJECT_PATH = \"/content/drive/MyDrive/Colab Notebooks/storage\"\n",
        "%cd {PROJECT_PATH}\n",
        "%pwd"
      ]
    },
    {
      "cell_type": "code",
      "source": [
        "# matplotlib 사용/버전 확인    https://matplotlib.org/stable/users/installing/index.html\n",
        "import matplotlib                      # matplotlib을 import\n",
        "matplotlib.__version__             # version"
      ],
      "metadata": {
        "id": "1a77n3we6FX0"
      },
      "execution_count": null,
      "outputs": []
    },
    {
      "cell_type": "code",
      "source": [
        "# bream_length  도미 길이,  bream_weight  도미 무게\n",
        "bream_length = [25.4, 26.3, 26.5, 29.0, 29.0, 29.7, 29.7, 30.0, 30.0, 30.7, 31.0, 31.0, \n",
        "                31.5, 32.0, 32.0, 32.0, 33.0, 33.0, 33.5, 33.5, 34.0, 34.0, 34.5, 35.0, \n",
        "                35.0, 35.0, 35.0, 36.0, 36.0, 37.0, 38.5, 38.5, 39.5, 41.0, 41.0]\n",
        "bream_weight = [242.0, 290.0, 340.0, 363.0, 430.0, 450.0, 500.0, 390.0, 450.0, 500.0, 475.0, 500.0, \n",
        "                500.0, 340.0, 600.0, 600.0, 700.0, 700.0, 610.0, 650.0, 575.0, 685.0, 620.0, 680.0, \n",
        "                700.0, 725.0, 720.0, 714.0, 850.0, 1000.0, 920.0, 955.0, 925.0, 975.0, 950.0]\n",
        "\n",
        "import matplotlib.pyplot as plt                      # matplotlib의 pyplot 함수를 plt로 지정\n",
        "plt.scatter(bream_length, bream_weight)    # scatter 함수\n",
        "plt.xlabel('length')                                         # x축 길이\n",
        "plt.ylabel('weight')                                        # y축 무게  \n",
        "plt.show()                                                     # ipynb 환경에서는 필요없음"
      ],
      "metadata": {
        "id": "LbaTUdNS6mN4"
      },
      "execution_count": null,
      "outputs": []
    },
    {
      "cell_type": "code",
      "source": [
        "# smelt_length  빙어 길이,  smelt_weight  빙어 무게\n",
        "smelt_length = [9.8, 10.5, 10.6, 11.0, 11.2, 11.3, 11.8, 11.8, 12.0, 12.2, 12.4, 13.0, 14.3, 15.0]\n",
        "smelt_weight = [6.7, 7.5, 7.0, 9.7, 9.8, 8.7, 10.0, 9.9, 9.8, 12.2, 13.4, 12.2, 19.7, 19.9]\n",
        "\n",
        "import matplotlib.pyplot as plt                      # matplotlib의 pyplot 함수를 plt로 지정\n",
        "plt.scatter(smelt_length, smelt_weight)    # scatter 함수\n",
        "plt.xlabel('length')                                         # x축 길이\n",
        "plt.ylabel('weight')                                        # y축 무게  \n",
        "plt.show()                                                     # ipynb 환경에서는 필요없음"
      ],
      "metadata": {
        "id": "qj2gco0U6zNk"
      },
      "execution_count": null,
      "outputs": []
    },
    {
      "cell_type": "code",
      "source": [
        "# 1. 기초 데이터 확보\n",
        "# bream 도미, smelt 빙어 동시에 그리기\n",
        "bream_length = [25.4, 26.3, 26.5, 29.0, 29.0, 29.7, 29.7, 30.0, 30.0, 30.7, 31.0, 31.0, \n",
        "                31.5, 32.0, 32.0, 32.0, 33.0, 33.0, 33.5, 33.5, 34.0, 34.0, 34.5, 35.0, \n",
        "                35.0, 35.0, 35.0, 36.0, 36.0, 37.0, 38.5, 38.5, 39.5, 41.0, 41.0]\n",
        "bream_weight = [242.0, 290.0, 340.0, 363.0, 430.0, 450.0, 500.0, 390.0, 450.0, 500.0, 475.0, 500.0, \n",
        "                500.0, 340.0, 600.0, 600.0, 700.0, 700.0, 610.0, 650.0, 575.0, 685.0, 620.0, 680.0, \n",
        "                700.0, 725.0, 720.0, 714.0, 850.0, 1000.0, 920.0, 955.0, 925.0, 975.0, 950.0]\n",
        "smelt_length = [9.8, 10.5, 10.6, 11.0, 11.2, 11.3, 11.8, 11.8, 12.0, 12.2, 12.4, 13.0, 14.3, 15.0]\n",
        "smelt_weight = [6.7, 7.5, 7.0, 9.7, 9.8, 8.7, 10.0, 9.9, 9.8, 12.2, 13.4, 12.2, 19.7, 19.9]\n",
        "\n",
        "import matplotlib.pyplot as plt                      # matplotlib의 pyplot 함수를 plt로 지정\n",
        "plt.scatter(bream_length, bream_weight)    # 도미 scatter 함수\n",
        "plt.scatter(smelt_length, smelt_weight)       # 빙어 scatter 함수\n",
        "plt.xlabel('length')                                         # x축 길이\n",
        "plt.ylabel('weight')                                        # y축 무게  \n",
        "plt.show()                                                     # ipynb 환경에서는 필요없음"
      ],
      "metadata": {
        "id": "RyTSy3gm69LO"
      },
      "execution_count": null,
      "outputs": []
    },
    {
      "cell_type": "code",
      "source": [
        "# 2. 입력 데이터 만들기\n",
        "length = bream_length + smelt_length\n",
        "weight = bream_weight + smelt_weight\n",
        "fish_data = [[l,w] for l,w in zip(length,weight)]\n",
        "print(fish_data)"
      ],
      "metadata": {
        "id": "U-aJ082-7LP8"
      },
      "execution_count": null,
      "outputs": []
    },
    {
      "cell_type": "code",
      "source": [
        "# 3. 정답 데이터 만들기\n",
        "fish_target = [1]*35+[0]*14\n",
        "print(fish_target)"
      ],
      "metadata": {
        "id": "F5pVFZr59ETu"
      },
      "execution_count": null,
      "outputs": []
    },
    {
      "cell_type": "code",
      "source": [
        "# 4. 학습 및 평가 (k-nearest neighbors 머신 러닝)\n",
        "from sklearn.neighbors  import KNeighborsClassifier      # import\n",
        "\n",
        "kn = KNeighborsClassifier()              # 객체 생성\n",
        "kn.fit(fish_data,fish_target)            # 학습\n",
        "kn.score(fish_data,fish_target)          # 평가"
      ],
      "metadata": {
        "id": "dE49nhUH9VuQ"
      },
      "execution_count": null,
      "outputs": []
    },
    {
      "cell_type": "code",
      "source": [
        "# 5. 예측 with data\n",
        "kn.predict([[30,600]])                         # (30,600) 생선의 종류 예측"
      ],
      "metadata": {
        "id": "aEDAfrfj9pfT"
      },
      "execution_count": null,
      "outputs": []
    },
    {
      "cell_type": "code",
      "source": [
        "# 예측 데이터 그림으로 표시하기\n",
        "plt.scatter(bream_length, bream_weight)    # 도미 scatter 함수\n",
        "plt.scatter(smelt_length, smelt_weight)       # 빙어 scatter 함수\n",
        "plt.scatter(30,600,marker='*')               # 예측대상 생선 그리기\n",
        "plt.xlabel('length')                                         # x축 길이\n",
        "plt.ylabel('weight')                                        # y축 무게  \n",
        "plt.show()                                                     # ipynb 환경에서는 필요없음"
      ],
      "metadata": {
        "id": "z8cQH1K4-CiK"
      },
      "execution_count": null,
      "outputs": []
    },
    {
      "cell_type": "code",
      "source": [
        "# k-nearest 알고리듬의 이웃갯수 설정 변경에 의한 정확도 결과(default=5)\n",
        "kn = KNeighborsClassifier()              # 객체 생성\n",
        "kn.fit(fish_data,fish_target)                # 학습\n",
        "for n in range(5,50):\n",
        "   # k-nearest 이웃 갯수 설정\n",
        "   kn.n_neighbors = n\n",
        "   score = kn.score(fish_data,fish_target)\n",
        "   # 100% 정확도 기준으로 작아지는 이웃 갯수 출력\n",
        "   if score < 1:\n",
        "      print(n,score)\n",
        "      break"
      ],
      "metadata": {
        "id": "B7e05iL4-fRc"
      },
      "execution_count": null,
      "outputs": []
    }
  ]
}