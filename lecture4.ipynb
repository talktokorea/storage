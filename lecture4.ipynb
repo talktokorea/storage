{
  "nbformat": 4,
  "nbformat_minor": 0,
  "metadata": {
    "colab": {
      "name": "lecture4.ipynb",
      "private_outputs": true,
      "provenance": [],
      "collapsed_sections": [],
      "include_colab_link": true
    },
    "kernelspec": {
      "name": "python3",
      "display_name": "Python 3"
    },
    "language_info": {
      "name": "python"
    }
  },
  "cells": [
    {
      "cell_type": "markdown",
      "metadata": {
        "id": "view-in-github",
        "colab_type": "text"
      },
      "source": [
        "<a href=\"https://colab.research.google.com/github/talktokorea/storage/blob/master/lecture4.ipynb\" target=\"_parent\"><img src=\"https://colab.research.google.com/assets/colab-badge.svg\" alt=\"Open In Colab\"/></a>"
      ]
    },
    {
      "cell_type": "code",
      "source": [
        "!sudo apt-get install -y fonts-nanum\n",
        "!sudo fc-cache -fv\n",
        "!rm ~/.cache/matplotlib -rf"
      ],
      "metadata": {
        "id": "n6mG8OEfdSa8"
      },
      "execution_count": null,
      "outputs": []
    },
    {
      "cell_type": "code",
      "execution_count": null,
      "metadata": {
        "id": "An9USc_Gw5o1"
      },
      "outputs": [],
      "source": [
        "#구글 드라이브를 코랩에 마운트 Mount Google Drive\n",
        "from google.colab import drive     # import drive from google colab\n",
        "ROOT=\"/content/drive\"                # root directory\n",
        "drive.mount(ROOT)                     # mount google drive at ROOT= /content/drive\n",
        "PROJECT_PATH = \"/content/drive/MyDrive/Colab Notebooks/storage\"\n",
        "%cd {PROJECT_PATH}\n",
        "%pwd"
      ]
    },
    {
      "cell_type": "code",
      "source": [
        "# 1. 기초 데이터 확보\n",
        "# bream 도미, smelt 빙어 \n",
        "bream_length = [25.4, 26.3, 26.5, 29.0, 29.0, 29.7, 29.7, 30.0, 30.0, 30.7, 31.0, 31.0, \n",
        "                31.5, 32.0, 32.0, 32.0, 33.0, 33.0, 33.5, 33.5, 34.0, 34.0, 34.5, 35.0, \n",
        "                35.0, 35.0, 35.0, 36.0, 36.0, 37.0, 38.5, 38.5, 39.5, 41.0, 41.0]\n",
        "bream_weight = [242.0, 290.0, 340.0, 363.0, 430.0, 450.0, 500.0, 390.0, 450.0, 500.0, 475.0, 500.0, \n",
        "                500.0, 340.0, 600.0, 600.0, 700.0, 700.0, 610.0, 650.0, 575.0, 685.0, 620.0, 680.0, \n",
        "                700.0, 725.0, 720.0, 714.0, 850.0, 1000.0, 920.0, 955.0, 925.0, 975.0, 950.0]\n",
        "smelt_length = [9.8, 10.5, 10.6, 11.0, 11.2, 11.3, 11.8, 11.8, 12.0, 12.2, 12.4, 13.0, 14.3, 15.0]\n",
        "smelt_weight = [6.7, 7.5, 7.0, 9.7, 9.8, 8.7, 10.0, 9.9, 9.8, 12.2, 13.4, 12.2, 19.7, 19.9]\n",
        "# 2. 입력 데이터 만들기\n",
        "fish_length = bream_length + smelt_length\n",
        "fish_weight = bream_weight + smelt_weight\n",
        "# 넘파이 활용\n",
        "import numpy as np\n",
        "fish_input = np.column_stack((fish_length,fish_weight))\n",
        "print(fish_input[:5])\n",
        "fish_target = np.concatenate((np.ones(35),np.zeros(14)))\n",
        "print(fish_target)"
      ],
      "metadata": {
        "id": "RyTSy3gm69LO"
      },
      "execution_count": null,
      "outputs": []
    },
    {
      "cell_type": "code",
      "source": [
        "# 3. 훈련 세트와 테스트 세트를 구분(25% 테스트 세트 기본 설정) \n",
        "from sklearn.model_selection  import train_test_split\n",
        "train_input, test_input, train_target, test_target = train_test_split(fish_input, fish_target, random_state=42)\n",
        "print(train_input.shape, test_input.shape)\n",
        "print(train_target.shape, test_target.shape)\n",
        "print(test_target)"
      ],
      "metadata": {
        "id": "jX-LhbcgQ4OA"
      },
      "execution_count": null,
      "outputs": []
    },
    {
      "cell_type": "code",
      "source": [
        "# 3. 훈련 세트와 테스트 세트를 구분(25% 테스트 세트 기본 설정) (계속) \n",
        "#stratiy 매개변수에 타겟 전달하여 비율 자동 맞춤(25%)\n",
        "train_input, test_input, train_target, test_target = train_test_split(fish_input, fish_target, stratify=fish_target,  random_state=42)\n",
        "print(test_target)\n",
        "# 4. 산포도 확인\n",
        "import matplotlib.pyplot as plt\n",
        "plt.scatter(train_input[:,0],train_input[:,1])\n",
        "plt.scatter(test_input[:,0],test_input[:,1])\n",
        "plt.xlabel('length')\n",
        "plt.ylabel('weight')\n",
        "plt.show()"
      ],
      "metadata": {
        "id": "n3N0sL1uXqku"
      },
      "execution_count": null,
      "outputs": []
    },
    {
      "cell_type": "code",
      "source": [
        "# 5. 알고리즘 적용(동일)\n",
        "from sklearn.neighbors  import KNeighborsClassifier      # import\n",
        "kn = KNeighborsClassifier()     # 객체 생성\n",
        "kn.fit(train_input, train_target)    # 머신러닝 훈련(학습)\n",
        "print(kn.score(train_input, train_target))  # 정확도(평가)\n",
        "# 6. 예측 길이 25, 무게 150\n",
        "kn.predict([[25,150]])"
      ],
      "metadata": {
        "id": "jCLhnmdecftu"
      },
      "execution_count": null,
      "outputs": []
    },
    {
      "cell_type": "code",
      "source": [
        "# 1. 훈련 데이터 대비 특정 생선 포인트(25,150)가 포함된 산포도\n",
        "import matplotlib.pyplot as plt\n",
        "#plt.rc('font', family='NanumBarunGothic') # 한글 폰트 인스톨후 런타임 다시 시작\n",
        "plt.scatter(train_input[:,0],train_input[:,1])\n",
        "plt.scatter(25,150, marker='*')\n",
        "plt.xlabel('length')\n",
        "plt.ylabel('weight')\n",
        "plt.show()"
      ],
      "metadata": {
        "id": "fS9U4xCGb5Lw"
      },
      "execution_count": null,
      "outputs": []
    },
    {
      "cell_type": "code",
      "source": [
        "# 2. 특정 생선 포인트(25,150)의 이웃 가져오기\n",
        "distances, indexes = kn.kneighbors([[25,150]])      # distance=이웃거리, indexes=이웃번호\n",
        "# 이웃 셈플 그리기\n",
        "plt.scatter(train_input[:,0],train_input[:,1])\n",
        "plt.scatter(25,150, marker='*')\n",
        "plt.scatter(train_input[indexes,0],train_input[indexes,1])  # 01번째컬럼 length, 1 2번째컬럼 weight \n",
        "plt.xlabel('length')\n",
        "plt.ylabel('weight')\n",
        "plt.show()"
      ],
      "metadata": {
        "id": "L_7tx6XFinLL"
      },
      "execution_count": null,
      "outputs": []
    },
    {
      "cell_type": "code",
      "source": [
        "# 3. 특정 생선 포인트(25,150)의 이웃 정보 프린트\n",
        "print(train_input[indexes])\n",
        "print(train_target[indexes])\n",
        "print(distances)"
      ],
      "metadata": {
        "id": "PASQ578_kNY1"
      },
      "execution_count": null,
      "outputs": []
    },
    {
      "cell_type": "code",
      "source": [
        "# 4. 기준을 통일하게 1000으로 설정한 후 그리기\n",
        "plt.scatter(train_input[:,0],train_input[:,1])\n",
        "plt.scatter(25,150, marker='*')\n",
        "plt.scatter(train_input[indexes,0],train_input[indexes,1])  # 01번째컬럼 length, 1 2번째컬럼 weight \n",
        "plt.xlim((0,1000))\n",
        "plt.xlabel('length')\n",
        "plt.ylabel('weight')\n",
        "plt.show()"
      ],
      "metadata": {
        "id": "BK4x4bpMlTOq"
      },
      "execution_count": null,
      "outputs": []
    },
    {
      "cell_type": "code",
      "source": [
        "# 5. 표준점수(Z-점수)를 이용한 정규화\n",
        "mean = np.mean(train_input,axis=0)     # 평균\n",
        "std = np.std(train_input,axis=0)           # 표준편차\n",
        "print(mean,std)                                \n",
        "train_scaled=(train_input-mean)/std    # 학습 데이터 z-value  NumPy 브로드캐스팅\n",
        "\n",
        "new = ([25,150]-mean)/std      # 생선 포인트 정규화\n",
        "\n",
        "plt.scatter(train_scaled[:,0], train_scaled[:,1])\n",
        "plt.scatter(new[0],new[1], marker='*')\n",
        "plt.xlabel('length')\n",
        "plt.ylabel('weight')\n",
        "plt.show()"
      ],
      "metadata": {
        "id": "2i8ZtDVHndAC"
      },
      "execution_count": null,
      "outputs": []
    },
    {
      "cell_type": "code",
      "source": [
        "# 6. 알고리즘 적용(동일)\n",
        "from sklearn.neighbors  import KNeighborsClassifier      # import\n",
        "kn = KNeighborsClassifier()     # 객체 생성\n",
        "kn.fit(train_scaled,train_target)    # 머신러닝 훈련(학습)\n",
        "test_scaled = (test_input-mean)/std  # 테스트 데이터 정규화\n",
        "print(kn.score(test_scaled, test_target))  # 정확도(평가)\n",
        "# 6. 예측 길이 25, 무게 150\n",
        "new = ([25,150]-mean)/std      # 생선 포인트 정규화\n",
        "kn.predict([new])"
      ],
      "metadata": {
        "id": "fC3o09X9o0pT"
      },
      "execution_count": null,
      "outputs": []
    },
    {
      "cell_type": "code",
      "source": [
        "# 7. 테스트 데이터의 new 이웃 가져오기\n",
        "distances, indexes = kn.kneighbors([new])      # distance=이웃거리, indexes=이웃번호\n",
        "# 이웃 샘플 그리기\n",
        "plt.scatter(train_scaled[:,0],train_scaled[:,1])\n",
        "plt.scatter(new[0],new[1], marker='*')\n",
        "plt.scatter(train_scaled[indexes,0],train_scaled[indexes,1])  # 0=1번째컬럼 length, 1=2번째컬럼 weight \n",
        "plt.xlabel('length')\n",
        "plt.ylabel('weight')\n",
        "plt.show()\n",
        "# 이웃 정보 프린트\n",
        "print(train_scaled[indexes])\n",
        "print(train_target[indexes])\n",
        "print(distances)"
      ],
      "metadata": {
        "id": "5r9Hj4UirgL_"
      },
      "execution_count": null,
      "outputs": []
    }
  ]
}