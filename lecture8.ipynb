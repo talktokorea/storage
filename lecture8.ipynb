{
  "nbformat": 4,
  "nbformat_minor": 0,
  "metadata": {
    "colab": {
      "name": "lecture8.ipynb",
      "private_outputs": true,
      "provenance": [],
      "collapsed_sections": [],
      "include_colab_link": true
    },
    "kernelspec": {
      "name": "python3",
      "display_name": "Python 3"
    },
    "language_info": {
      "name": "python"
    }
  },
  "cells": [
    {
      "cell_type": "markdown",
      "metadata": {
        "id": "view-in-github",
        "colab_type": "text"
      },
      "source": [
        "<a href=\"https://colab.research.google.com/github/talktokorea/storage/blob/master/lecture8.ipynb\" target=\"_parent\"><img src=\"https://colab.research.google.com/assets/colab-badge.svg\" alt=\"Open In Colab\"/></a>"
      ]
    },
    {
      "cell_type": "code",
      "source": [
        "# 0. 한글 폰트 다운로드 설치\n",
        "!sudo apt-get install -y fonts-nanum\n",
        "!sudo fc-cache -fv\n",
        "!rm ~/.cache/matplotlib -rf\n",
        "# 0. 구글 드라이브를 코랩에 마운트 Mount Google Drive\n",
        "from google.colab import drive     # import drive from google colab\n",
        "ROOT=\"/content/drive\"                # root directory\n",
        "drive.mount(ROOT)                     # mount google drive at ROOT= /content/drive\n",
        "PROJECT_PATH = \"/content/drive/MyDrive/Colab Notebooks/storage\"\n",
        "%cd {PROJECT_PATH}\n",
        "%pwd"
      ],
      "metadata": {
        "id": "n6mG8OEfdSa8"
      },
      "execution_count": null,
      "outputs": []
    },
    {
      "cell_type": "code",
      "source": [
        "# 1. 농어 Perch 데이터 입력\n",
        "import numpy as np\n",
        "perch_length = np.array(\n",
        "      [8.4, 13.7, 15.0, 16.2, 17.4, 18.0, 18.7, 19.0, 19.6, 20.0, 21.0,\n",
        "       21.0, 21.0, 21.3, 22.0, 22.0, 22.0, 22.0, 22.0, 22.5, 22.5, 22.7,\n",
        "       23.0, 23.5, 24.0, 24.0, 24.6, 25.0, 25.6, 26.5, 27.3, 27.5, 27.5,\n",
        "       27.5, 28.0, 28.7, 30.0, 32.8, 34.5, 35.0, 36.5, 36.0, 37.0, 37.0,\n",
        "       39.0, 39.0, 39.0, 40.0, 40.0, 40.0, 40.0, 42.0, 43.0, 43.0, 43.5,\n",
        "       44.0]\n",
        "       )\n",
        "perch_weight = np.array(\n",
        "      [5.9, 32.0, 40.0, 51.5, 70.0, 100.0, 78.0, 80.0, 85.0, 85.0, 110.0,\n",
        "       115.0, 125.0, 130.0, 120.0, 120.0, 130.0, 135.0, 110.0, 130.0,\n",
        "       150.0, 145.0, 150.0, 170.0, 225.0, 145.0, 188.0, 180.0, 197.0,\n",
        "       218.0, 300.0, 260.0, 265.0, 250.0, 250.0, 300.0, 320.0, 514.0,\n",
        "       556.0, 840.0, 685.0, 700.0, 700.0, 690.0, 900.0, 650.0, 820.0,\n",
        "       850.0, 900.0, 1015.0, 820.0, 1100.0, 1000.0, 1100.0, 1000.0,\n",
        "       1000.0]\n",
        "      )"
      ],
      "metadata": {
        "id": "9cIm2CwKkk0w"
      },
      "execution_count": null,
      "outputs": []
    },
    {
      "cell_type": "code",
      "source": [
        "# 2. 훈련 세트와 테스트 세트를 구분(25% 테스트 세트 기본 설정) (각각 입력 및 정답)\n",
        "# train_test_split() 이용 train_input, train_targt, test_input, test_target 확보\n",
        "from sklearn.model_selection import train_test_split\n",
        "train_input,test_input,train_target,test_target = train_test_split(perch_length,perch_weight,random_state=42)\n",
        "print(train_input.shape, test_input.shape)\n",
        "print(train_target.shape, test_target.shape)"
      ],
      "metadata": {
        "id": "4FTi8utHkr7C"
      },
      "execution_count": null,
      "outputs": []
    },
    {
      "cell_type": "code",
      "source": [
        "# 3. 사이킷런에서 사용할 수 있도록 2차원 배열 데이터로 변경 + 2차방정식 데이터\n",
        "train_input=train_input.reshape(-1,1)\n",
        "test_input = np.reshape(test_input,(-1,1)) # 동일\n",
        "#print(train_input)\n",
        "# 2차방정식 훈련 데이터 생성\n",
        "train_poly = np.column_stack((train_input**2,train_input))\n",
        "test_poly = np.column_stack((test_input**2,test_input))"
      ],
      "metadata": {
        "id": "G-yvdpYWkz1S"
      },
      "execution_count": null,
      "outputs": []
    },
    {
      "cell_type": "code",
      "source": [
        "# 4. 훈련 및 결정계수 평가\n",
        "from sklearn.linear_model  import LinearRegression  # 사이킷런 패키지\n",
        "lr = LinearRegression()   # 객체 생성\n",
        "lr.fit(train_poly,train_target)    # 머신러닝 훈련\n",
        "lr.predict([[50**2,50]])      # (길이 제곱, 길이) 입력  1573.98"
      ],
      "metadata": {
        "id": "ehSqBbkClTEg"
      },
      "execution_count": null,
      "outputs": []
    },
    {
      "cell_type": "code",
      "source": [
        "# 5. 회귀선 속성 인쇄 및 산점도 그리기\n",
        "print(lr.coef_,lr.intercept_)   # 속성값\n",
        "#for i in lr.coef_:\n",
        "#    print(i)\n",
        "print(lr.coef_[0],lr.coef_[1],lr.intercept_)   # 속성값\n",
        "import matplotlib.pyplot as plt\n",
        "plt.scatter(train_input,train_target)    # 훈련세트\n",
        "# (15,50)  그래프\n",
        "point = np.arange(15,50)\n",
        "#plt.plot (point,1.01*point**2 - 21.6*point+116.05)\n",
        "plt.plot (point,lr.coef_[0]*point**2 + lr.coef_[1]*point+lr.intercept_)\n",
        "# 예측값 그리기\n",
        "plt.scatter(50,1574,marker='*')\n",
        "plt.xlabel('length')\n",
        "plt.ylabel('weight')\n",
        "plt.show()"
      ],
      "metadata": {
        "id": "cZeHosYmlaAm"
      },
      "execution_count": null,
      "outputs": []
    },
    {
      "cell_type": "code",
      "source": [
        "# 6. R 점수 확인\n",
        "print(lr.score(train_poly,train_target))  # R훈련  0.9707\n",
        "print(lr.score(test_poly,test_target))  # R테스트 0.9776"
      ],
      "metadata": {
        "id": "SOkWqUoopyVB"
      },
      "execution_count": null,
      "outputs": []
    }
  ]
}