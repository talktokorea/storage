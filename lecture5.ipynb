{
  "nbformat": 4,
  "nbformat_minor": 0,
  "metadata": {
    "colab": {
      "name": "lecture5.ipynb",
      "private_outputs": true,
      "provenance": [],
      "collapsed_sections": [],
      "include_colab_link": true
    },
    "kernelspec": {
      "name": "python3",
      "display_name": "Python 3"
    },
    "language_info": {
      "name": "python"
    }
  },
  "cells": [
    {
      "cell_type": "markdown",
      "metadata": {
        "id": "view-in-github",
        "colab_type": "text"
      },
      "source": [
        "<a href=\"https://colab.research.google.com/github/talktokorea/storage/blob/master/lecture5.ipynb\" target=\"_parent\"><img src=\"https://colab.research.google.com/assets/colab-badge.svg\" alt=\"Open In Colab\"/></a>"
      ]
    },
    {
      "cell_type": "code",
      "source": [
        "# 0. 한글 폰트 다운로드 설치\n",
        "!sudo apt-get install -y fonts-nanum\n",
        "!sudo fc-cache -fv\n",
        "!rm ~/.cache/matplotlib -rf\n",
        "# 0. 구글 드라이브를 코랩에 마운트 Mount Google Drive\n",
        "from google.colab import drive     # import drive from google colab\n",
        "ROOT=\"/content/drive\"                # root directory\n",
        "drive.mount(ROOT)                     # mount google drive at ROOT= /content/drive\n",
        "PROJECT_PATH = \"/content/drive/MyDrive/Colab Notebooks/storage\"\n",
        "%cd {PROJECT_PATH}\n",
        "%pwd"
      ],
      "metadata": {
        "id": "n6mG8OEfdSa8"
      },
      "execution_count": null,
      "outputs": []
    },
    {
      "cell_type": "code",
      "execution_count": null,
      "metadata": {
        "id": "An9USc_Gw5o1"
      },
      "outputs": [],
      "source": [
        "# 1. 농어 Perch 데이터 입력\n",
        "import numpy as np\n",
        "perch_length = np.array(\n",
        "      [8.4, 13.7, 15.0, 16.2, 17.4, 18.0, 18.7, 19.0, 19.6, 20.0, 21.0,\n",
        "       21.0, 21.0, 21.3, 22.0, 22.0, 22.0, 22.0, 22.0, 22.5, 22.5, 22.7,\n",
        "       23.0, 23.5, 24.0, 24.0, 24.6, 25.0, 25.6, 26.5, 27.3, 27.5, 27.5,\n",
        "       27.5, 28.0, 28.7, 30.0, 32.8, 34.5, 35.0, 36.5, 36.0, 37.0, 37.0,\n",
        "       39.0, 39.0, 39.0, 40.0, 40.0, 40.0, 40.0, 42.0, 43.0, 43.0, 43.5,\n",
        "       44.0]\n",
        "       )\n",
        "perch_weight = np.array(\n",
        "      [5.9, 32.0, 40.0, 51.5, 70.0, 100.0, 78.0, 80.0, 85.0, 85.0, 110.0,\n",
        "       115.0, 125.0, 130.0, 120.0, 120.0, 130.0, 135.0, 110.0, 130.0,\n",
        "       150.0, 145.0, 150.0, 170.0, 225.0, 145.0, 188.0, 180.0, 197.0,\n",
        "       218.0, 300.0, 260.0, 265.0, 250.0, 250.0, 300.0, 320.0, 514.0,\n",
        "       556.0, 840.0, 685.0, 700.0, 700.0, 690.0, 900.0, 650.0, 820.0,\n",
        "       850.0, 900.0, 1015.0, 820.0, 1100.0, 1000.0, 1100.0, 1000.0,\n",
        "       1000.0]\n",
        "      )"
      ]
    },
    {
      "cell_type": "code",
      "source": [
        "# 2. 데이터 산포도\n",
        "import matplotlib.pyplot as plt\n",
        "plt.scatter(perch_length,perch_weight)\n",
        "plt.xlabel('length')\n",
        "plt.ylabel('weight')      # 예측값 y=무게\n",
        "plt.show()"
      ],
      "metadata": {
        "id": "DomJ0nvHnGC9"
      },
      "execution_count": null,
      "outputs": []
    },
    {
      "cell_type": "code",
      "source": [
        "# 3. 훈련 세트와 테스트 세트를 구분(25% 테스트 세트 기본 설정) (각각 입력 및 정답)\n",
        "# train_test_split() 이용 train_input, train_targt, test_input, test_target 확보\n",
        "from sklearn.model_selection import train_test_split\n",
        "train_input,test_input,train_target,test_target = train_test_split( perch_length, perch_weight, random_state=42)\n",
        "print(train_input.shape, test_input.shape)\n",
        "print(train_target.shape, test_target.shape)\n",
        "print(test_target)"
      ],
      "metadata": {
        "id": "XU1gkGSOnPjI"
      },
      "execution_count": null,
      "outputs": []
    },
    {
      "cell_type": "code",
      "source": [
        "# 4. 훈련세트 + 테스트세트 산포도 확인\n",
        "import matplotlib.pyplot as plt\n",
        "plt.scatter(train_input,train_target)\n",
        "plt.scatter(test_input,test_target)\n",
        "plt.xlabel('length')\n",
        "plt.ylabel('weight')\n",
        "plt.show()"
      ],
      "metadata": {
        "id": "WhRAdPLNnXht"
      },
      "execution_count": null,
      "outputs": []
    },
    {
      "cell_type": "code",
      "source": [
        "# 5. 사이킷런에서 사용할 수 있도록 2차원 배열 데이터로 변경\n",
        "train_input=train_input.reshape(-1,1)\n",
        "#train_input = np.reshape(train_input,(-1,1)) # 동일\n",
        "#test_input=test_input.reshape(-1,1)\n",
        "test_input = np.reshape(test_input,(-1,1)) # 동일\n",
        "#print(train_input)\n",
        "print(test_input)"
      ],
      "metadata": {
        "id": "KLnviGk0nfNx"
      },
      "execution_count": null,
      "outputs": []
    },
    {
      "cell_type": "code",
      "source": [
        "# 6. 훈련 및 결정계수(테스트) 평가\n",
        "from sklearn.neighbors import KNeighborsRegressor  # 사이킷런 패키지\n",
        "knr = KNeighborsRegressor()   # 객체 생성\n",
        "knr.fit(train_input,train_target)    # 머신러닝 훈련\n",
        "knr.score(test_input, test_target)  # 결정계수 R 평가  R테스트=0.992\n",
        "test_prediction=knr.predict(test_input)             # 예측\n",
        "\n",
        "from sklearn.metrics import mean_absolute_error  # 사이킷런 패키지\n",
        "mae = mean_absolute_error(test_target,test_prediction) #타겟예측절대오차\n",
        "print(mae)                      # 예측이 평균적으로 19g 정도 타겟값과 다르다는 의미"
      ],
      "metadata": {
        "id": "8tOfmznpnruR"
      },
      "execution_count": null,
      "outputs": []
    },
    {
      "cell_type": "code",
      "source": [
        "# 7. 훈련 데이터 이용한 결정계수(훈련) 추가평가\n",
        "#from sklearn.neighbors import KNeighborsRegressor  # 사이킷런 패키지\n",
        "#knr = KNeighborsRegressor()   # 객체 생성\n",
        "#knr.fit(train_input,train_target)    # 머신러닝 훈련\n",
        "knr.score(train_input, train_target)  # 결정계수 R 평가  R훈련=0.969"
      ],
      "metadata": {
        "id": "2N6fX9tcnzkm"
      },
      "execution_count": null,
      "outputs": []
    },
    {
      "cell_type": "code",
      "source": [
        "# 8. R훈련 < R테스트 이므로 과소적합 상태임\n",
        "#복잡도 높이기 (k값 낮추기) 필요함\n",
        "knr.n_neighbors = 3    # 5에서 3으로 감소 설정\n",
        "knr.fit(train_input,train_target)\n",
        "print(knr.score(train_input,train_target))    # R훈련 = 0.980\n",
        "print(knr.score(test_input,test_target))      # R테스트 = 0.974"
      ],
      "metadata": {
        "id": "rmFDS2-en64J"
      },
      "execution_count": null,
      "outputs": []
    },
    {
      "cell_type": "code",
      "source": [
        "# 과대 적합 추가 토론\n",
        "from sklearn.neighbors import KNeighborsRegressor  # 사이킷런 패키지\n",
        "knr = KNeighborsRegressor()   # 객체 생성\n",
        "x=np.arange(5,45).reshape(-1,1)   # 5에서 45까지 x 좌표 생성\n",
        "# k=1,5,10 일때 예측결과를 그래프로 그리기\n",
        "for k in [1,5,10]:\n",
        "   # 모델 훈련\n",
        "   knr.n_neighbors = k                   # 이웃 숫자 설정\n",
        "   knr.fit(train_input,train_target)    # 머신러닝 훈련\n",
        "   # 지정한 범위 x에 대한 예측 구하기\n",
        "   prediction = knr.predict(x)\n",
        "   # 훈련 세트와 에측 결과 그래프\n",
        "   plt.scatter(train_input,train_target)\n",
        "   plt.plot(x,prediction)      # 선형그래프\n",
        "   plt.title('n_neighbors={}'.format(k))\n",
        "   plt.xlabel('length')\n",
        "   plt.ylabel('weight')\n",
        "   plt.show()"
      ],
      "metadata": {
        "id": "wqig9Dm6oCGd"
      },
      "execution_count": null,
      "outputs": []
    }
  ]
}