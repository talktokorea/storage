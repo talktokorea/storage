{
  "nbformat": 4,
  "nbformat_minor": 0,
  "metadata": {
    "colab": {
      "name": "fishy.ipynb",
      "private_outputs": true,
      "provenance": [],
      "collapsed_sections": [],
      "authorship_tag": "ABX9TyPuLBF3KByqhMhjpxqYraqz",
      "include_colab_link": true
    },
    "kernelspec": {
      "name": "python3",
      "display_name": "Python 3"
    },
    "language_info": {
      "name": "python"
    }
  },
  "cells": [
    {
      "cell_type": "markdown",
      "metadata": {
        "id": "view-in-github",
        "colab_type": "text"
      },
      "source": [
        "<a href=\"https://colab.research.google.com/github/talktokorea/storage/blob/master/fishy.ipynb\" target=\"_parent\"><img src=\"https://colab.research.google.com/assets/colab-badge.svg\" alt=\"Open In Colab\"/></a>"
      ]
    },
    {
      "cell_type": "code",
      "execution_count": null,
      "metadata": {
        "id": "L-K5VV-ABznR"
      },
      "outputs": [],
      "source": [
        "# 구글 드라이브 연동\n",
        "#구글 드라이브를 코랩에 마운트 Mount Google Drive\n",
        "from google.colab import drive     # import drive from google colab\n",
        "ROOT=\"/content/drive\"                # root directory\n",
        "drive.mount(ROOT)                     # mount google drive at ROOT= /content/drive\n",
        "PROJECT_PATH = \"/content/drive/MyDrive/Colab Notebooks/storage\"\n",
        "%cd {PROJECT_PATH}\n",
        "%pwd\n",
        "\n",
        "\n",
        "# matplotlib 사용/버전 확인    https://matplotlib.org/stable/users/installing/index.html\n",
        "import matplotlib                      # matplotlib을 import\n",
        "matplotlib.__version__             # version\n"
      ]
    },
    {
      "cell_type": "code",
      "source": [
        "# 0. 판다스 라이브러리 임포트\n",
        "import  pandas  as  pd\n",
        "\n",
        "# 1. github 데이터 읽기\n",
        "fish = pd.read_csv(\"https://raw.githubusercontent.com/talktokorea/storage/master/fish.csv\")\n",
        "\n",
        "# 2. 데이터 모양/속성 확인      (49,3)\n",
        "print(fish.shape)      \n",
        "#fish.tail()\n",
        "\n",
        "# 3. 컬럼명 확인 Index(['length', 'weight', 'species'], dtype='object')\n",
        "print(fish.columns)\n",
        "\n",
        "# 4. species의 유일한 값 확인  ['Bream', 'Swelt’] \n",
        "print(pd.unique(fish['species']))\n",
        "\n",
        "# 5. 입력 fish_input 생성   학습 및 테스트 데이터 분리까지 배열을 사용하지 않음(ANN 에서 활용 염두) \n",
        "#fish_input = fish[ ['length', 'weight'] ].to_numpy()\n",
        "fish_input = fish[ ['length', 'weight'] ]\n",
        "print(fish_input[:5])\n",
        "\n",
        "# 6. 타겟 fish_target 생성\n",
        "fish_target = fish[ ['species'] ].to_numpy()\n",
        "#fish_target = fish[ ['species'] ]\n",
        "print(fish_target[:5])"
      ],
      "metadata": {
        "id": "RFX5orq2B9ND"
      },
      "execution_count": null,
      "outputs": []
    },
    {
      "cell_type": "code",
      "source": [
        "# 7. plot 생성\n",
        "import matplotlib.pyplot as plt\n",
        "fish_plt=fish_input.to_numpy()\n",
        "plt.scatter(fish_plt[:,0],fish_plt[:,1])\n",
        "plt.xlabel('length')\n",
        "plt.ylabel('weight')\n",
        "plt.show()\n"
      ],
      "metadata": {
        "id": "0Y_tBfVtCB6y"
      },
      "execution_count": null,
      "outputs": []
    },
    {
      "cell_type": "code",
      "source": [
        "# 8. fish_input과 fish_target을 훈련(train) 세트/테스트(test) 세트 구분(25%)\n",
        "from sklearn.model_selection import train_test_split\n",
        "train_input,test_input,train_target,test_target = train_test_split(fish_input, fish_target, stratify=fish_target, random_state=42)\n",
        "print(train_input)\n",
        "print(test_input)\n",
        "print(train_target)\n",
        "print(test_target)\n",
        "\n",
        "# 9. 표준화 전처리 #  파일 형태의 train 및 test 데이터가 numpy 배열로 변경됨 \n",
        "from sklearn.preprocessing import StandardScaler\n",
        "ss = StandardScaler()\n",
        "ss.fit(train_input)\n",
        "train_input_scaled = ss.transform(train_input)\n",
        "test_input_scaled = ss.transform(test_input)\n",
        "\n",
        "print(train_input_scaled)\n",
        "print(test_input_scaled)"
      ],
      "metadata": {
        "id": "3FQL76GUCGW6"
      },
      "execution_count": null,
      "outputs": []
    },
    {
      "cell_type": "code",
      "source": [
        "# 10. 학습\n",
        "from sklearn.neighbors  import KNeighborsClassifier\n",
        "kn = KNeighborsClassifier(n_neighbors=3)\n",
        "#kn.fit(train_input_scaled, train_target)\n",
        "kn.fit(train_input_scaled, train_target.ravel())\n",
        "# 11. 정확도\n",
        "print(kn.score(train_input_scaled,train_target))\n",
        "print(kn.score(test_input_scaled,test_target))\n",
        "# 12. 클래스 이름 순서(알파벳순)  ['Bream','Smelt']\n",
        "print(kn.classes_)\n",
        "# 13. test_input_scaled의 최초 5개에 대한 예측\n",
        "print(test_input[:5])\n",
        "print(test_input_scaled[:5])\n",
        "print(kn.predict(test_input_scaled[:5]))\n",
        "\n",
        "# 14. 소수점 3자리 반올림 확률\n",
        "import numpy as np\n",
        "proba = kn.predict_proba(test_input_scaled[:5])\n",
        "print(np.round(proba,decimals=3))\n",
        "\n",
        "# 15. 최근접 이웃 클래스 확인\n",
        "distances, indexes = kn.kneighbors(test_input_scaled[3:4])\n",
        "print(train_target[indexes])\n",
        "print(distances)"
      ],
      "metadata": {
        "id": "6eAsmzq4CNcK"
      },
      "execution_count": null,
      "outputs": []
    },
    {
      "cell_type": "code",
      "source": [
        "# 16. confusion matrix, classication_report\n",
        "from sklearn.metrics import confusion_matrix, classification_report\n",
        "test_predict=kn.predict(test_input_scaled[:])\n",
        "confusion_matrix(test_target,test_predict)\n",
        "#print(\"hello\")\n",
        "classification_report(test_target,test_predict)"
      ],
      "metadata": {
        "id": "-SomL5VyCY1K"
      },
      "execution_count": null,
      "outputs": []
    },
    {
      "cell_type": "code",
      "source": [
        "# 17. 새로운 생선[25,150]에 대한 예측\n",
        "from sklearn.preprocessing import StandardScaler\n",
        "# 신규 입력을 data frame으로 설정. 이유는 이전에 표준화를 df를 대상으로 했기 때문에. \n",
        "# 즉, ss.transform(train_input)의 train_input이 현재 df임\n",
        "# df_new = [[25,150]]  또는 np.array([[25,150]])으로 설정하면 값은 계산되지만 warning이 발생함\n",
        "df_new = pd.DataFrame( [[25,150]], columns=['length','weight'] )\n",
        "ss = StandardScaler()\n",
        "# 평균, 표준편차 계산\n",
        "ss.fit(train_input)\n",
        "# z 값 계산\n",
        "new_scaled = ss.transform(df_new)\n",
        "\n",
        "# 18. new_scaled에 대한 예측\n",
        "print(df_new)\n",
        "print(new_scaled)\n",
        "print(kn.predict(new_scaled))\n"
      ],
      "metadata": {
        "id": "bV2iLjKTCc2a"
      },
      "execution_count": null,
      "outputs": []
    },
    {
      "cell_type": "code",
      "source": [
        "# 19. plotting\n",
        "import matplotlib.pyplot as plt\n",
        "distances, indexes = kn.kneighbors(new_scaled)\n",
        "plt.scatter(new_scaled[:,0],new_scaled[:,1],marker='^')\n",
        "plt.scatter(train_input_scaled[:,0],train_input_scaled[:,1])\n",
        "plt.scatter(train_input_scaled[indexes,0],train_input_scaled[indexes,1],marker='D')\n",
        "plt.xlabel('length')\n",
        "plt.ylabel('weight')\n",
        "plt.show()\n",
        "\n",
        "\n"
      ],
      "metadata": {
        "id": "YgaNuMiTCgwC"
      },
      "execution_count": null,
      "outputs": []
    }
  ]
}