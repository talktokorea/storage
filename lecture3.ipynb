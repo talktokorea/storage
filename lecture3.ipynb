{
  "nbformat": 4,
  "nbformat_minor": 0,
  "metadata": {
    "colab": {
      "name": "lecture3.ipynb",
      "private_outputs": true,
      "provenance": [],
      "collapsed_sections": [],
      "include_colab_link": true
    },
    "kernelspec": {
      "name": "python3",
      "display_name": "Python 3"
    },
    "language_info": {
      "name": "python"
    }
  },
  "cells": [
    {
      "cell_type": "markdown",
      "metadata": {
        "id": "view-in-github",
        "colab_type": "text"
      },
      "source": [
        "<a href=\"https://colab.research.google.com/github/talktokorea/storage/blob/master/lecture3.ipynb\" target=\"_parent\"><img src=\"https://colab.research.google.com/assets/colab-badge.svg\" alt=\"Open In Colab\"/></a>"
      ]
    },
    {
      "cell_type": "code",
      "execution_count": null,
      "metadata": {
        "id": "An9USc_Gw5o1"
      },
      "outputs": [],
      "source": [
        "#구글 드라이브를 코랩에 마운트 Mount Google Drive\n",
        "from google.colab import drive     # import drive from google colab\n",
        "ROOT=\"/content/drive\"                # root directory\n",
        "drive.mount(ROOT)                     # mount google drive at ROOT= /content/drive\n",
        "PROJECT_PATH = \"/content/drive/MyDrive/Colab Notebooks/storage\"\n",
        "%cd {PROJECT_PATH}\n",
        "%pwd"
      ]
    },
    {
      "cell_type": "code",
      "source": [
        "# 1. 기초 데이터 확보\n",
        "# bream 도미, smelt 빙어 동시에 그리기\n",
        "bream_length = [25.4, 26.3, 26.5, 29.0, 29.0, 29.7, 29.7, 30.0, 30.0, 30.7, 31.0, 31.0, \n",
        "                31.5, 32.0, 32.0, 32.0, 33.0, 33.0, 33.5, 33.5, 34.0, 34.0, 34.5, 35.0, \n",
        "                35.0, 35.0, 35.0, 36.0, 36.0, 37.0, 38.5, 38.5, 39.5, 41.0, 41.0]\n",
        "bream_weight = [242.0, 290.0, 340.0, 363.0, 430.0, 450.0, 500.0, 390.0, 450.0, 500.0, 475.0, 500.0, \n",
        "                500.0, 340.0, 600.0, 600.0, 700.0, 700.0, 610.0, 650.0, 575.0, 685.0, 620.0, 680.0, \n",
        "                700.0, 725.0, 720.0, 714.0, 850.0, 1000.0, 920.0, 955.0, 925.0, 975.0, 950.0]\n",
        "smelt_length = [9.8, 10.5, 10.6, 11.0, 11.2, 11.3, 11.8, 11.8, 12.0, 12.2, 12.4, 13.0, 14.3, 15.0]\n",
        "smelt_weight = [6.7, 7.5, 7.0, 9.7, 9.8, 8.7, 10.0, 9.9, 9.8, 12.2, 13.4, 12.2, 19.7, 19.9]"
      ],
      "metadata": {
        "id": "RyTSy3gm69LO"
      },
      "execution_count": null,
      "outputs": []
    },
    {
      "cell_type": "code",
      "source": [
        "# 2. 입력 데이터 만들기\n",
        "length = bream_length + smelt_length\n",
        "weight = bream_weight + smelt_weight\n",
        "fish_data = [[l,w] for l,w in zip(length,weight)]\n",
        "print(fish_data)"
      ],
      "metadata": {
        "id": "oQG3nFp-Jgf1"
      },
      "execution_count": null,
      "outputs": []
    },
    {
      "cell_type": "code",
      "source": [
        "# 3. 정답 데이터 만들기\n",
        "fish_target = [1]*35+[0]*14\n",
        "print(fish_target)"
      ],
      "metadata": {
        "id": "v3YrusuGJoME"
      },
      "execution_count": null,
      "outputs": []
    },
    {
      "cell_type": "code",
      "source": [
        "# 4. numpy 이용 변경\n",
        "import numpy as np\n",
        "#파이썬 리스트의 넘파이 배열 변경(추가)\n",
        "input_arr = np.array(fish_data)        #fish_data 리스트를 넘파이 배열로 \n",
        "target_arr = np.array(fish_target)   #target_data 리스트를 넘파이배열로\n",
        "print(input_arr.shape)                      # (49,2) = (샘플수,특성수)\n",
        "#훈련/테스트 데이터 분리(추가)\n",
        "#인덱스 생성 + 랜덤 선정\n",
        "np.random.seed(42)     # random seed 번호 선택\n",
        "index=np.arange(49)    # 49개 번호 생성\n",
        "np.random.shuffle(index)  # 무작위로 섞기\n",
        "print(index)"
      ],
      "metadata": {
        "id": "ucmcQf73Jw7t"
      },
      "execution_count": null,
      "outputs": []
    },
    {
      "cell_type": "code",
      "source": [
        "# 5. 학습 및 평가 (k-nearest neighbors 머신 러닝)\n",
        "#훈련 및 정답 데이터 분리(유사)\n",
        "train_input = input_arr[index[:35]]       # 0 ~ 34\n",
        "train_target = target_arr[index[:35]]    # 0 ~ 34\n",
        "test_input = input_arr[index[35:]]       # 34 ~ 끝\n",
        "test_target = target_arr[index[35:]]    # 34 ~ 끝\n",
        "#알고리즘 적용(동일)\n",
        "from sklearn.neighbors  import KNeighborsClassifier      # import\n",
        "kn = KNeighborsClassifier()              # 객체 생성\n",
        "kn.fit(train_input, train_target)    # 머신러닝 훈련(학습)\n",
        "kn.score(train_input, train_target)  # 정확도(평가)"
      ],
      "metadata": {
        "id": "AECSxQ69J4Mi"
      },
      "execution_count": null,
      "outputs": []
    },
    {
      "cell_type": "code",
      "source": [
        "# 6. 예측 (k-nearest neighbors 머신 러닝)\n",
        "\n",
        "kn.predict(test_input)                   # 예측 성공"
      ],
      "metadata": {
        "id": "ZKUhMfI-KAN3"
      },
      "execution_count": null,
      "outputs": []
    },
    {
      "cell_type": "code",
      "source": [
        "# 7. 산포도(샘플링 바이어스 해소)\n",
        "import matplotlib.pyplot as plt\n",
        "plt.scatter(train_input[:,0],train_input[:,1])\n",
        "plt.scatter(test_input[:,0],test_input[:,1])\n",
        "plt.xlabel('length')\n",
        "plt.ylabel('weight')\n",
        "plt.show()"
      ],
      "metadata": {
        "id": "Pmi4wpzHKIG0"
      },
      "execution_count": null,
      "outputs": []
    }
  ]
}